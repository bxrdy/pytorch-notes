{
  "nbformat": 4,
  "nbformat_minor": 0,
  "metadata": {
    "colab": {
      "provenance": [],
      "gpuType": "T4",
      "authorship_tag": "ABX9TyOlGIVHQe7AigrlPJDnIpIm"
    },
    "kernelspec": {
      "name": "python3",
      "display_name": "Python 3"
    },
    "language_info": {
      "name": "python"
    },
    "accelerator": "GPU"
  },
  "cells": [
    {
      "cell_type": "code",
      "execution_count": 1,
      "metadata": {
        "id": "yM708xnihpXY",
        "colab": {
          "base_uri": "https://localhost:8080/"
        },
        "outputId": "ca900e04-a516-40b7-d8b7-8c7233289ea6"
      },
      "outputs": [
        {
          "output_type": "stream",
          "name": "stdout",
          "text": [
            "2.6.0+cu124\n"
          ]
        }
      ],
      "source": [
        "# import necessary libraries\n",
        "import torch\n",
        "import pandas as pd\n",
        "import numpy as np\n",
        "import matplotlib.pyplot as plt\n",
        "print(torch.__version__)"
      ]
    },
    {
      "cell_type": "code",
      "source": [
        "# check for gpu availability\n",
        "!nvidia-smi"
      ],
      "metadata": {
        "colab": {
          "base_uri": "https://localhost:8080/"
        },
        "id": "deiRMPrrkQLO",
        "outputId": "e3666ef1-b64b-4654-bd5d-ce7307711c9d"
      },
      "execution_count": 2,
      "outputs": [
        {
          "output_type": "stream",
          "name": "stdout",
          "text": [
            "Mon Jul 28 02:08:55 2025       \n",
            "+-----------------------------------------------------------------------------------------+\n",
            "| NVIDIA-SMI 550.54.15              Driver Version: 550.54.15      CUDA Version: 12.4     |\n",
            "|-----------------------------------------+------------------------+----------------------+\n",
            "| GPU  Name                 Persistence-M | Bus-Id          Disp.A | Volatile Uncorr. ECC |\n",
            "| Fan  Temp   Perf          Pwr:Usage/Cap |           Memory-Usage | GPU-Util  Compute M. |\n",
            "|                                         |                        |               MIG M. |\n",
            "|=========================================+========================+======================|\n",
            "|   0  Tesla T4                       Off |   00000000:00:04.0 Off |                    0 |\n",
            "| N/A   67C    P8             14W /   70W |       0MiB /  15360MiB |      0%      Default |\n",
            "|                                         |                        |                  N/A |\n",
            "+-----------------------------------------+------------------------+----------------------+\n",
            "                                                                                         \n",
            "+-----------------------------------------------------------------------------------------+\n",
            "| Processes:                                                                              |\n",
            "|  GPU   GI   CI        PID   Type   Process name                              GPU Memory |\n",
            "|        ID   ID                                                               Usage      |\n",
            "|=========================================================================================|\n",
            "|  No running processes found                                                             |\n",
            "+-----------------------------------------------------------------------------------------+\n"
          ]
        }
      ]
    },
    {
      "cell_type": "markdown",
      "source": [
        "## Tensors\n",
        "\n",
        "### Creating Tensors"
      ],
      "metadata": {
        "id": "zIrxJL1ZbgDW"
      }
    },
    {
      "cell_type": "code",
      "source": [
        "# create a scalar tensor\n",
        "scalar = torch.tensor(7)\n",
        "scalar"
      ],
      "metadata": {
        "id": "qDbSoD1Ja_96",
        "colab": {
          "base_uri": "https://localhost:8080/"
        },
        "outputId": "d175e374-122b-4944-b890-53ad734ad31c"
      },
      "execution_count": 3,
      "outputs": [
        {
          "output_type": "execute_result",
          "data": {
            "text/plain": [
              "tensor(7)"
            ]
          },
          "metadata": {},
          "execution_count": 3
        }
      ]
    },
    {
      "cell_type": "code",
      "source": [
        "# a scalar has no dimension, so this will return 0\n",
        "scalar.ndim"
      ],
      "metadata": {
        "colab": {
          "base_uri": "https://localhost:8080/"
        },
        "id": "E854pGgvb3Wn",
        "outputId": "3587abe5-3134-4e19-9409-7f7c2d622210"
      },
      "execution_count": 4,
      "outputs": [
        {
          "output_type": "execute_result",
          "data": {
            "text/plain": [
              "0"
            ]
          },
          "metadata": {},
          "execution_count": 4
        }
      ]
    },
    {
      "cell_type": "code",
      "source": [
        "# get the integer value of a scalar tensor\n",
        "scalar.item()"
      ],
      "metadata": {
        "colab": {
          "base_uri": "https://localhost:8080/"
        },
        "id": "YTXy6aStcZd6",
        "outputId": "a7e5d54f-25c5-4cb2-acd6-7d5410f6166f"
      },
      "execution_count": 5,
      "outputs": [
        {
          "output_type": "execute_result",
          "data": {
            "text/plain": [
              "7"
            ]
          },
          "metadata": {},
          "execution_count": 5
        }
      ]
    },
    {
      "cell_type": "code",
      "source": [
        "# create a vector tensor\n",
        "vector = torch.tensor([7, 7])\n",
        "vector"
      ],
      "metadata": {
        "colab": {
          "base_uri": "https://localhost:8080/"
        },
        "id": "d8cwPG0pcfp7",
        "outputId": "6d9c3537-840b-4803-ac32-8d51b137718e"
      },
      "execution_count": 6,
      "outputs": [
        {
          "output_type": "execute_result",
          "data": {
            "text/plain": [
              "tensor([7, 7])"
            ]
          },
          "metadata": {},
          "execution_count": 6
        }
      ]
    },
    {
      "cell_type": "code",
      "source": [
        "# check the number of dimensions of a vector\n",
        "vector.ndim"
      ],
      "metadata": {
        "colab": {
          "base_uri": "https://localhost:8080/"
        },
        "id": "0ESQ7rbOcvJC",
        "outputId": "dc39c33d-6482-45e4-a217-daab4dd21ae6"
      },
      "execution_count": 7,
      "outputs": [
        {
          "output_type": "execute_result",
          "data": {
            "text/plain": [
              "1"
            ]
          },
          "metadata": {},
          "execution_count": 7
        }
      ]
    },
    {
      "cell_type": "code",
      "source": [
        "# check the shape of a vector\n",
        "vector.shape"
      ],
      "metadata": {
        "colab": {
          "base_uri": "https://localhost:8080/"
        },
        "id": "PZywH1jBcwny",
        "outputId": "28c6823d-9e0e-45ed-9227-da386d4a654d"
      },
      "execution_count": 8,
      "outputs": [
        {
          "output_type": "execute_result",
          "data": {
            "text/plain": [
              "torch.Size([2])"
            ]
          },
          "metadata": {},
          "execution_count": 8
        }
      ]
    },
    {
      "cell_type": "code",
      "source": [
        "# create a matrix tensor\n",
        "MATRIX = torch.tensor([[7, 8],\n",
        "                      [9, 10]])\n",
        "MATRIX"
      ],
      "metadata": {
        "colab": {
          "base_uri": "https://localhost:8080/"
        },
        "id": "Y1s35iUfc66A",
        "outputId": "75dbe105-7639-41e5-f265-08c9638f74d2"
      },
      "execution_count": 9,
      "outputs": [
        {
          "output_type": "execute_result",
          "data": {
            "text/plain": [
              "tensor([[ 7,  8],\n",
              "        [ 9, 10]])"
            ]
          },
          "metadata": {},
          "execution_count": 9
        }
      ]
    },
    {
      "cell_type": "code",
      "source": [
        "# check the number of dimensions of a matrix\n",
        "MATRIX.ndim"
      ],
      "metadata": {
        "colab": {
          "base_uri": "https://localhost:8080/"
        },
        "id": "AvoNW5SxdRpI",
        "outputId": "2a08528a-93a7-4a3c-93c2-b207c3e0b348"
      },
      "execution_count": 10,
      "outputs": [
        {
          "output_type": "execute_result",
          "data": {
            "text/plain": [
              "2"
            ]
          },
          "metadata": {},
          "execution_count": 10
        }
      ]
    },
    {
      "cell_type": "code",
      "source": [
        "# check the shape of a matrix\n",
        "MATRIX.shape"
      ],
      "metadata": {
        "colab": {
          "base_uri": "https://localhost:8080/"
        },
        "id": "MslrVHZddYeJ",
        "outputId": "87bc16b7-eeea-4488-f0a5-7e513cac6cc9"
      },
      "execution_count": 11,
      "outputs": [
        {
          "output_type": "execute_result",
          "data": {
            "text/plain": [
              "torch.Size([2, 2])"
            ]
          },
          "metadata": {},
          "execution_count": 11
        }
      ]
    },
    {
      "cell_type": "code",
      "source": [
        "# access an element in a matrix\n",
        "MATRIX[1]"
      ],
      "metadata": {
        "colab": {
          "base_uri": "https://localhost:8080/"
        },
        "id": "LfkPraOVdcJU",
        "outputId": "9a2605c0-5efd-465f-d4a0-63a4d9b94475"
      },
      "execution_count": 12,
      "outputs": [
        {
          "output_type": "execute_result",
          "data": {
            "text/plain": [
              "tensor([ 9, 10])"
            ]
          },
          "metadata": {},
          "execution_count": 12
        }
      ]
    },
    {
      "cell_type": "code",
      "source": [
        "# create a 3d tensor\n",
        "TENSOR = torch.tensor([[[1, 2, 3],\n",
        "                        [3, 6, 9],\n",
        "                        [2, 4, 5]]])\n",
        "TENSOR"
      ],
      "metadata": {
        "colab": {
          "base_uri": "https://localhost:8080/"
        },
        "id": "_rfbrvwedfxN",
        "outputId": "da94fddb-2f0d-4e40-a682-f93f8d2a2319"
      },
      "execution_count": 13,
      "outputs": [
        {
          "output_type": "execute_result",
          "data": {
            "text/plain": [
              "tensor([[[1, 2, 3],\n",
              "         [3, 6, 9],\n",
              "         [2, 4, 5]]])"
            ]
          },
          "metadata": {},
          "execution_count": 13
        }
      ]
    },
    {
      "cell_type": "code",
      "source": [
        "# check the number of dimensions of a 3d tensor\n",
        "TENSOR.ndim"
      ],
      "metadata": {
        "colab": {
          "base_uri": "https://localhost:8080/"
        },
        "id": "qPp3Snsed0CS",
        "outputId": "6c3ddc2f-f81c-4fe4-e361-e308ada6e902"
      },
      "execution_count": 14,
      "outputs": [
        {
          "output_type": "execute_result",
          "data": {
            "text/plain": [
              "3"
            ]
          },
          "metadata": {},
          "execution_count": 14
        }
      ]
    },
    {
      "cell_type": "code",
      "source": [
        "# check the shape of a 3d tensor\n",
        "TENSOR.shape"
      ],
      "metadata": {
        "colab": {
          "base_uri": "https://localhost:8080/"
        },
        "id": "Lm48HX3md8pp",
        "outputId": "5cb5c84b-d561-4321-95a0-9ac99e1ce851"
      },
      "execution_count": 15,
      "outputs": [
        {
          "output_type": "execute_result",
          "data": {
            "text/plain": [
              "torch.Size([1, 3, 3])"
            ]
          },
          "metadata": {},
          "execution_count": 15
        }
      ]
    },
    {
      "cell_type": "markdown",
      "source": [
        "## Random Tensors\n",
        "\n",
        "**Why?** Random tensors are important because the way many neural networks learn is that they start with tensors full of random numbers and then adjust those random numbers to better represent the data.\n",
        "\n",
        "`start w/ random numbers -> look at data -> update random numbers -> look at data -> update random numbers`"
      ],
      "metadata": {
        "id": "da5WkATnd_Ug"
      }
    },
    {
      "cell_type": "code",
      "source": [
        "# create a random tensor of size (3, 4)\n",
        "random_tensor = torch.rand(3, 4)\n",
        "random_tensor"
      ],
      "metadata": {
        "colab": {
          "base_uri": "https://localhost:8080/"
        },
        "id": "7Rvq5cbvfM2V",
        "outputId": "ad8e1772-f4ad-432a-beea-9ace7d47882a"
      },
      "execution_count": 16,
      "outputs": [
        {
          "output_type": "execute_result",
          "data": {
            "text/plain": [
              "tensor([[0.1381, 0.2118, 0.8780, 0.8560],\n",
              "        [0.3971, 0.2638, 0.7533, 0.8485],\n",
              "        [0.9126, 0.5908, 0.7954, 0.7659]])"
            ]
          },
          "metadata": {},
          "execution_count": 16
        }
      ]
    },
    {
      "cell_type": "code",
      "source": [
        "# check the number of dimensions of the random tensor\n",
        "random_tensor.ndim"
      ],
      "metadata": {
        "colab": {
          "base_uri": "https://localhost:8080/"
        },
        "id": "Iw1lwySNfmY4",
        "outputId": "dee8386f-955c-4598-da8d-092c37591482"
      },
      "execution_count": 17,
      "outputs": [
        {
          "output_type": "execute_result",
          "data": {
            "text/plain": [
              "2"
            ]
          },
          "metadata": {},
          "execution_count": 17
        }
      ]
    },
    {
      "cell_type": "code",
      "source": [
        "# create a random tensor with a shape similar to an image (height, width, color channels)\n",
        "random_image_size_tensor = torch.rand(size=(224, 224, 3))\n",
        "random_image_size_tensor.shape, random_image_size_tensor.ndim"
      ],
      "metadata": {
        "colab": {
          "base_uri": "https://localhost:8080/"
        },
        "id": "xAOPTJKTf16g",
        "outputId": "edb36fdc-0192-42a9-b9b8-38a27c1aee0b"
      },
      "execution_count": 18,
      "outputs": [
        {
          "output_type": "execute_result",
          "data": {
            "text/plain": [
              "(torch.Size([224, 224, 3]), 3)"
            ]
          },
          "metadata": {},
          "execution_count": 18
        }
      ]
    },
    {
      "cell_type": "markdown",
      "source": [
        "## Zeros & Ones"
      ],
      "metadata": {
        "id": "qpcN8xUcgUMv"
      }
    },
    {
      "cell_type": "code",
      "source": [
        "# create a tensor of all zeros with a given size\n",
        "zeros = torch.zeros(size=(3, 4))\n",
        "zeros"
      ],
      "metadata": {
        "colab": {
          "base_uri": "https://localhost:8080/"
        },
        "id": "BL6TQBjvhXID",
        "outputId": "1afc508a-7961-4f3d-8929-b42874a74334"
      },
      "execution_count": 19,
      "outputs": [
        {
          "output_type": "execute_result",
          "data": {
            "text/plain": [
              "tensor([[0., 0., 0., 0.],\n",
              "        [0., 0., 0., 0.],\n",
              "        [0., 0., 0., 0.]])"
            ]
          },
          "metadata": {},
          "execution_count": 19
        }
      ]
    },
    {
      "cell_type": "code",
      "source": [
        "# element-wise multiplication of two tensors\n",
        "zeros * random_tensor"
      ],
      "metadata": {
        "colab": {
          "base_uri": "https://localhost:8080/"
        },
        "id": "KzxvpR4-hceS",
        "outputId": "b44cacdd-8ca3-4feb-d9c4-3729dee12945"
      },
      "execution_count": 20,
      "outputs": [
        {
          "output_type": "execute_result",
          "data": {
            "text/plain": [
              "tensor([[0., 0., 0., 0.],\n",
              "        [0., 0., 0., 0.],\n",
              "        [0., 0., 0., 0.]])"
            ]
          },
          "metadata": {},
          "execution_count": 20
        }
      ]
    },
    {
      "cell_type": "code",
      "source": [
        "# create a tensor of all ones with a given size\n",
        "ones = torch.ones(size=(3, 4))\n",
        "ones"
      ],
      "metadata": {
        "colab": {
          "base_uri": "https://localhost:8080/"
        },
        "id": "d6j7IEMLhq2J",
        "outputId": "67b72b1a-f654-4a1b-d1de-ab0db28b91c0"
      },
      "execution_count": 21,
      "outputs": [
        {
          "output_type": "execute_result",
          "data": {
            "text/plain": [
              "tensor([[1., 1., 1., 1.],\n",
              "        [1., 1., 1., 1.],\n",
              "        [1., 1., 1., 1.]])"
            ]
          },
          "metadata": {},
          "execution_count": 21
        }
      ]
    },
    {
      "cell_type": "code",
      "source": [
        "# check the data type of a tensor\n",
        "ones.dtype"
      ],
      "metadata": {
        "id": "hJz4bCxVhvGl",
        "outputId": "6699dcb4-a588-4d21-ceb1-bd06e882ad40",
        "colab": {
          "base_uri": "https://localhost:8080/"
        }
      },
      "execution_count": 22,
      "outputs": [
        {
          "output_type": "execute_result",
          "data": {
            "text/plain": [
              "torch.float32"
            ]
          },
          "metadata": {},
          "execution_count": 22
        }
      ]
    },
    {
      "cell_type": "markdown",
      "source": [
        "## Creating a range of tensor and tensors-like"
      ],
      "metadata": {
        "id": "t1ghFV1uM0RP"
      }
    },
    {
      "cell_type": "code",
      "source": [
        "# create a tensor with a range of values, `torch.range()` is deprecated, use `torch.arange()` instead\n",
        "torch.arange(start=0, end=10, step=2)"
      ],
      "metadata": {
        "id": "72f702T-M5Nr",
        "colab": {
          "base_uri": "https://localhost:8080/"
        },
        "outputId": "ad288670-fe90-48df-d660-2b411f46a161"
      },
      "execution_count": 23,
      "outputs": [
        {
          "output_type": "execute_result",
          "data": {
            "text/plain": [
              "tensor([0, 2, 4, 6, 8])"
            ]
          },
          "metadata": {},
          "execution_count": 23
        }
      ]
    },
    {
      "cell_type": "code",
      "source": [
        "# create a tensor of zeros with the same shape as another tensor\n",
        "torch.zeros_like(input=torch.arange(0, 10))"
      ],
      "metadata": {
        "colab": {
          "base_uri": "https://localhost:8080/"
        },
        "id": "tXfNXIEONKk5",
        "outputId": "0a43691f-9d03-4bfc-f12e-2c5bf10e841e"
      },
      "execution_count": 24,
      "outputs": [
        {
          "output_type": "execute_result",
          "data": {
            "text/plain": [
              "tensor([0, 0, 0, 0, 0, 0, 0, 0, 0, 0])"
            ]
          },
          "metadata": {},
          "execution_count": 24
        }
      ]
    },
    {
      "cell_type": "markdown",
      "source": [
        "# Tensor Datatypes\n",
        "\n",
        "**Note**: Three main errors you'll run into with PyTorch & Deep Learning\n",
        "1. Tensors not right shape\n",
        "2. Tensors not right data type\n",
        "3. Tnesors not on the right device"
      ],
      "metadata": {
        "id": "QrAUqdVWpjQ2"
      }
    },
    {
      "cell_type": "code",
      "source": [
        "# the default datatype in tensor is float32 even thought we might not explicitly mention it it\n",
        "check_dataype = torch.tensor([3.0, 6.0, 9.0],\n",
        "             dtype=None)\n",
        "\n",
        "check_dataype.dtype"
      ],
      "metadata": {
        "colab": {
          "base_uri": "https://localhost:8080/"
        },
        "id": "ag0QtgyCpsCl",
        "outputId": "9968c226-8035-42a6-d688-99ab216e9189"
      },
      "execution_count": 25,
      "outputs": [
        {
          "output_type": "execute_result",
          "data": {
            "text/plain": [
              "torch.float32"
            ]
          },
          "metadata": {},
          "execution_count": 25
        }
      ]
    },
    {
      "cell_type": "code",
      "source": [
        "check_dataype2 = torch.tensor([3.0, 6.0, 9.0],\n",
        "                              dtype=None, # what dataype is the tensor (e.g. float32 or float16)\n",
        "                              device=None, # by default it'd be \"cpu\"; for gpu use \"cuda\"; basically this represents what device is your tensor on\n",
        "                              requires_grad=False) # whether or not to track gradiants w/ this tensors operatins\n",
        "\n",
        "check_dataype2.dtype"
      ],
      "metadata": {
        "colab": {
          "base_uri": "https://localhost:8080/"
        },
        "id": "TfhKAniovuBw",
        "outputId": "733e7a98-067d-4ad0-befb-6ee4dcefb293"
      },
      "execution_count": 26,
      "outputs": [
        {
          "output_type": "execute_result",
          "data": {
            "text/plain": [
              "torch.float32"
            ]
          },
          "metadata": {},
          "execution_count": 26
        }
      ]
    },
    {
      "cell_type": "code",
      "source": [
        "# change the datatype\n",
        "changed_datatype = check_dataype2.type(torch.float16)\n",
        "changed_datatype.dtype"
      ],
      "metadata": {
        "colab": {
          "base_uri": "https://localhost:8080/"
        },
        "id": "vStP09fUxfhY",
        "outputId": "1db3c7f6-30ec-4b8b-c4f6-f70a434b4081"
      },
      "execution_count": 27,
      "outputs": [
        {
          "output_type": "execute_result",
          "data": {
            "text/plain": [
              "torch.float16"
            ]
          },
          "metadata": {},
          "execution_count": 27
        }
      ]
    },
    {
      "cell_type": "markdown",
      "source": [
        "# Getting information from tensor\n",
        "1. Tensor not right datatype – use `tensor.dtype` to figure out the issue\n",
        "2. Tensor not right shape - use `tensor.shape` to figure out the issue\n",
        "3. Tensor not on the right device - use `tensor.device` to figure out the issue"
      ],
      "metadata": {
        "id": "E22Ev7JwPjib"
      }
    },
    {
      "cell_type": "code",
      "source": [
        "random_tensor = torch.rand(3, 4)\n",
        "random_tensor"
      ],
      "metadata": {
        "colab": {
          "base_uri": "https://localhost:8080/"
        },
        "id": "m2u0gI1IUW2V",
        "outputId": "ffdf4c9f-c5d0-4068-cc1c-558c5243e823"
      },
      "execution_count": 28,
      "outputs": [
        {
          "output_type": "execute_result",
          "data": {
            "text/plain": [
              "tensor([[0.7887, 0.8970, 0.1152, 0.8385],\n",
              "        [0.2242, 0.9328, 0.4813, 0.6881],\n",
              "        [0.1184, 0.8487, 0.3943, 0.3248]])"
            ]
          },
          "metadata": {},
          "execution_count": 28
        }
      ]
    },
    {
      "cell_type": "code",
      "source": [
        "# find out details about the above random tensor\n",
        "print(random_tensor)\n",
        "print(f\"Datatype of tensor: {random_tensor.dtype}\")\n",
        "print(f\"Shape of tensor: {random_tensor.shape}\")\n",
        "print(f\"Device tensor is on: {random_tensor.device}\")"
      ],
      "metadata": {
        "colab": {
          "base_uri": "https://localhost:8080/"
        },
        "id": "JAj7x_hKUcnG",
        "outputId": "dc7ce949-9549-478c-8d10-f1b2ba5d9f42"
      },
      "execution_count": 29,
      "outputs": [
        {
          "output_type": "stream",
          "name": "stdout",
          "text": [
            "tensor([[0.7887, 0.8970, 0.1152, 0.8385],\n",
            "        [0.2242, 0.9328, 0.4813, 0.6881],\n",
            "        [0.1184, 0.8487, 0.3943, 0.3248]])\n",
            "Datatype of tensor: torch.float32\n",
            "Shape of tensor: torch.Size([3, 4])\n",
            "Device tensor is on: cpu\n"
          ]
        }
      ]
    },
    {
      "cell_type": "markdown",
      "source": [
        "# Manipulating Tensors (Tensor operations)\n",
        "\n",
        "Operations include:\n",
        "- Addition\n",
        "- Subtraction\n",
        "- Multiplication (element-wise)\n",
        "- Division\n",
        "- Matrix Multiplication"
      ],
      "metadata": {
        "id": "6_M6P5XHU9v4"
      }
    },
    {
      "cell_type": "code",
      "source": [
        "# create a tensor and add, multiply, subtract, and divide 10\n",
        "new_tensor = torch.tensor([1, 2, 3])\n",
        "new_tensor + 10, new_tensor * 10, new_tensor - 1, new_tensor / 10"
      ],
      "metadata": {
        "colab": {
          "base_uri": "https://localhost:8080/"
        },
        "id": "hbwTaa0xn6kU",
        "outputId": "d80d93e3-d208-4f69-e1a7-37c15a7cd940"
      },
      "execution_count": 30,
      "outputs": [
        {
          "output_type": "execute_result",
          "data": {
            "text/plain": [
              "(tensor([11, 12, 13]),\n",
              " tensor([10, 20, 30]),\n",
              " tensor([0, 1, 2]),\n",
              " tensor([0.1000, 0.2000, 0.3000]))"
            ]
          },
          "metadata": {},
          "execution_count": 30
        }
      ]
    },
    {
      "cell_type": "code",
      "source": [
        "# try out PyTorch in-built functions\n",
        "torch.mul(new_tensor, 10), torch.add(new_tensor, 10), torch.sub(new_tensor, 1), torch.div(new_tensor, 10)"
      ],
      "metadata": {
        "colab": {
          "base_uri": "https://localhost:8080/"
        },
        "id": "qYaM9WuNocC1",
        "outputId": "9cd7fa14-d6dd-4a8c-e07c-8a4f6148ecd8"
      },
      "execution_count": 31,
      "outputs": [
        {
          "output_type": "execute_result",
          "data": {
            "text/plain": [
              "(tensor([10, 20, 30]),\n",
              " tensor([11, 12, 13]),\n",
              " tensor([0, 1, 2]),\n",
              " tensor([0.1000, 0.2000, 0.3000]))"
            ]
          },
          "metadata": {},
          "execution_count": 31
        }
      ]
    },
    {
      "cell_type": "markdown",
      "source": [
        "### Matrix Multiplication\n",
        "\n",
        "Two main ways of performing multiplication in neural networks and deep learning:\n",
        "1. Element-wise multiplication\n",
        "2. Matrix multiplication (dot product)\n",
        "\n",
        "More information on multiplying matrices – https://www.mathsisfun.com/algebra/matrix-multiplying.html\n",
        "\n",
        "These are the two main rules that performing matrix multiplication needs to satisfy:\n",
        "1. The **inner dimentions** must match:\n",
        "- `(3, 2)` @ `(3, 2)` => won't work\n",
        "- `(2, 3)` @ `(3, 2)` => will work\n",
        "- `(3, 2)` @ `(2, 3)` => will work\n",
        "2. The resulting matrix has the shape of the **outer dimensions**:\n",
        "- `(2, 3)` @ `(3, 2)` => `(2, 2)`\n",
        "- `(3, 2)` @ `(2, 3)` => `(3, 3)`"
      ],
      "metadata": {
        "id": "OeHu20g7o4E7"
      }
    },
    {
      "cell_type": "code",
      "source": [
        "# element-wise multiplication\n",
        "print(new_tensor, \"*\", new_tensor)\n",
        "print(f\"Equals: {new_tensor * new_tensor}\")"
      ],
      "metadata": {
        "colab": {
          "base_uri": "https://localhost:8080/"
        },
        "id": "lcvoJoSQp9AX",
        "outputId": "027432ce-eb67-4f7c-aa26-877185bbe5a3"
      },
      "execution_count": 32,
      "outputs": [
        {
          "output_type": "stream",
          "name": "stdout",
          "text": [
            "tensor([1, 2, 3]) * tensor([1, 2, 3])\n",
            "Equals: tensor([1, 4, 9])\n"
          ]
        }
      ]
    },
    {
      "cell_type": "code",
      "source": [
        "# matrix multiplication\n",
        "matmul_tensor = torch.matmul(new_tensor, new_tensor) # 1*1+2*2+3*3={1+4+9}\n",
        "matmul_tensor"
      ],
      "metadata": {
        "colab": {
          "base_uri": "https://localhost:8080/"
        },
        "id": "Hg5tAKcDq1r7",
        "outputId": "0c364726-f5c9-427a-bc55-ad82f5a4eb53"
      },
      "execution_count": 33,
      "outputs": [
        {
          "output_type": "execute_result",
          "data": {
            "text/plain": [
              "tensor(14)"
            ]
          },
          "metadata": {},
          "execution_count": 33
        }
      ]
    },
    {
      "cell_type": "code",
      "source": [
        "# verifying the time difference comparing the in-built function vs. multiplication by hand\n",
        "%%time\n",
        "value=0\n",
        "for i in range(len(new_tensor)):\n",
        "  value += new_tensor[i] * new_tensor[i]\n",
        "print(value)"
      ],
      "metadata": {
        "colab": {
          "base_uri": "https://localhost:8080/"
        },
        "id": "mVwc__qgq8B5",
        "outputId": "f29c8962-e5d2-4dbc-d389-ac3cb8da4ccc"
      },
      "execution_count": 34,
      "outputs": [
        {
          "output_type": "stream",
          "name": "stdout",
          "text": [
            "tensor(14)\n",
            "CPU times: user 851 µs, sys: 0 ns, total: 851 µs\n",
            "Wall time: 856 µs\n"
          ]
        }
      ]
    },
    {
      "cell_type": "code",
      "source": [
        "%%time\n",
        "torch.matmul(new_tensor, new_tensor)"
      ],
      "metadata": {
        "colab": {
          "base_uri": "https://localhost:8080/"
        },
        "id": "RT9gzfz8sEUo",
        "outputId": "b825f78b-fe3b-47b3-a7ff-d2c62eaa7d82"
      },
      "execution_count": 35,
      "outputs": [
        {
          "output_type": "stream",
          "name": "stdout",
          "text": [
            "CPU times: user 26 µs, sys: 4 µs, total: 30 µs\n",
            "Wall time: 33.4 µs\n"
          ]
        },
        {
          "output_type": "execute_result",
          "data": {
            "text/plain": [
              "tensor(14)"
            ]
          },
          "metadata": {},
          "execution_count": 35
        }
      ]
    },
    {
      "cell_type": "markdown",
      "source": [
        "## One of the most common errors in deep learning: **shape errors**"
      ],
      "metadata": {
        "id": "5AQtBrI5sIuB"
      }
    },
    {
      "cell_type": "code",
      "source": [
        "## shapes for matrix multiplication\n",
        "tensor_A = torch.tensor([[1, 2],\n",
        "                         [3, 4],\n",
        "                         [5, 6]])\n",
        "\n",
        "tensor_B = torch.tensor([[7, 10],\n",
        "                         [8, 11],\n",
        "                         [9, 12]])\n",
        "\n",
        "torch.mm(tensor_A, tensor_B) # torch.mm() is the same as torch.matmul() => it's an alias for writing less code"
      ],
      "metadata": {
        "colab": {
          "base_uri": "https://localhost:8080/",
          "height": 184
        },
        "id": "18HbC3gdulo9",
        "outputId": "6206c9e4-93f1-4906-afc2-99499df4c989"
      },
      "execution_count": 36,
      "outputs": [
        {
          "output_type": "error",
          "ename": "RuntimeError",
          "evalue": "mat1 and mat2 shapes cannot be multiplied (3x2 and 3x2)",
          "traceback": [
            "\u001b[0;31m---------------------------------------------------------------------------\u001b[0m",
            "\u001b[0;31mRuntimeError\u001b[0m                              Traceback (most recent call last)",
            "\u001b[0;32m/tmp/ipython-input-36-1138083660.py\u001b[0m in \u001b[0;36m<cell line: 0>\u001b[0;34m()\u001b[0m\n\u001b[1;32m      8\u001b[0m                          [9, 12]])\n\u001b[1;32m      9\u001b[0m \u001b[0;34m\u001b[0m\u001b[0m\n\u001b[0;32m---> 10\u001b[0;31m \u001b[0mtorch\u001b[0m\u001b[0;34m.\u001b[0m\u001b[0mmm\u001b[0m\u001b[0;34m(\u001b[0m\u001b[0mtensor_A\u001b[0m\u001b[0;34m,\u001b[0m \u001b[0mtensor_B\u001b[0m\u001b[0;34m)\u001b[0m \u001b[0;31m# torch.mm() is the same as torch.matmul() => it's an alias for writing less code\u001b[0m\u001b[0;34m\u001b[0m\u001b[0;34m\u001b[0m\u001b[0m\n\u001b[0m",
            "\u001b[0;31mRuntimeError\u001b[0m: mat1 and mat2 shapes cannot be multiplied (3x2 and 3x2)"
          ]
        }
      ]
    },
    {
      "cell_type": "code",
      "source": [
        "tensor_A.shape, tensor_B.shape"
      ],
      "metadata": {
        "colab": {
          "base_uri": "https://localhost:8080/"
        },
        "id": "HZR2wy5bvAhy",
        "outputId": "28f3c68f-4b24-4c18-9a43-0e8daf9a4c0e"
      },
      "execution_count": 37,
      "outputs": [
        {
          "output_type": "execute_result",
          "data": {
            "text/plain": [
              "(torch.Size([3, 2]), torch.Size([3, 2]))"
            ]
          },
          "metadata": {},
          "execution_count": 37
        }
      ]
    },
    {
      "cell_type": "markdown",
      "source": [
        "To fix out tensor shape issues we can manipulate the shape of one of our tensors using a **transpose**. A  **transpose** switches the axes or dimenstions of a given tensor."
      ],
      "metadata": {
        "id": "fWVr7en9vejw"
      }
    },
    {
      "cell_type": "code",
      "source": [
        "tensor_B, tensor_B.shape"
      ],
      "metadata": {
        "colab": {
          "base_uri": "https://localhost:8080/"
        },
        "id": "FGNQDC_Yv-tx",
        "outputId": "411349f4-5726-4034-97e7-185df6aa7e57"
      },
      "execution_count": 38,
      "outputs": [
        {
          "output_type": "execute_result",
          "data": {
            "text/plain": [
              "(tensor([[ 7, 10],\n",
              "         [ 8, 11],\n",
              "         [ 9, 12]]),\n",
              " torch.Size([3, 2]))"
            ]
          },
          "metadata": {},
          "execution_count": 38
        }
      ]
    },
    {
      "cell_type": "code",
      "source": [
        "tensor_B.T, tensor_B.T.shape"
      ],
      "metadata": {
        "colab": {
          "base_uri": "https://localhost:8080/"
        },
        "id": "hs6ageIBwFPE",
        "outputId": "a979ebbb-7be4-4a22-d92f-e50423724afe"
      },
      "execution_count": 39,
      "outputs": [
        {
          "output_type": "execute_result",
          "data": {
            "text/plain": [
              "(tensor([[ 7,  8,  9],\n",
              "         [10, 11, 12]]),\n",
              " torch.Size([2, 3]))"
            ]
          },
          "metadata": {},
          "execution_count": 39
        }
      ]
    },
    {
      "cell_type": "code",
      "source": [
        "torch.matmul(tensor_A, tensor_B.T), torch.matmul(tensor_A, tensor_B.T).shape"
      ],
      "metadata": {
        "colab": {
          "base_uri": "https://localhost:8080/"
        },
        "id": "1-4dP-7Lwda8",
        "outputId": "0c493294-e5a8-4d16-9c52-b562dccc05b8"
      },
      "execution_count": 40,
      "outputs": [
        {
          "output_type": "execute_result",
          "data": {
            "text/plain": [
              "(tensor([[ 27,  30,  33],\n",
              "         [ 61,  68,  75],\n",
              "         [ 95, 106, 117]]),\n",
              " torch.Size([3, 3]))"
            ]
          },
          "metadata": {},
          "execution_count": 40
        }
      ]
    }
  ]
}